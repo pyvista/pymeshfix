{
  "cells": [
    {
      "cell_type": "markdown",
      "metadata": {},
      "source": [
        "\n# Holey Cow\n\nRepair a holey cow\n"
      ]
    },
    {
      "cell_type": "code",
      "execution_count": null,
      "metadata": {
        "collapsed": false
      },
      "outputs": [],
      "source": [
        "import numpy as np\n\n# sphinx_gallery_thumbnail_number = 1\nimport pyvista as pv\nfrom pyvista import examples\n\nimport pymeshfix as mf"
      ]
    },
    {
      "cell_type": "code",
      "execution_count": null,
      "metadata": {
        "collapsed": false
      },
      "outputs": [],
      "source": [
        "cow = examples.download_cow()\n\n# Add holes and cast to triangulated PolyData\ncow[\"random\"] = np.random.rand(cow.n_cells)\nholy_cow = cow.threshold(0.9, invert=True).extract_geometry().triangulate()\nprint(holy_cow)"
      ]
    },
    {
      "cell_type": "code",
      "execution_count": null,
      "metadata": {
        "collapsed": false
      },
      "outputs": [],
      "source": [
        "# A nice camera location of the cow\ncpos = [(6.56, 8.73, 22.03), (0.77, -0.44, 0.0), (-0.13, 0.93, -0.35)]\n\nmeshfix = mf.MeshFix(holy_cow)\nholes = meshfix.extract_holes()\n\n# Render the mesh and outline the holes\np = pv.Plotter()\np.add_mesh(holy_cow, color=True)\np.add_mesh(holes, color=\"r\", line_width=8)\np.camera_position = cpos\np.enable_eye_dome_lighting()  # helps depth perception\np.show()"
      ]
    },
    {
      "cell_type": "markdown",
      "metadata": {},
      "source": [
        "Repair the holey cow\n\n"
      ]
    },
    {
      "cell_type": "code",
      "execution_count": null,
      "metadata": {
        "collapsed": false
      },
      "outputs": [],
      "source": [
        "meshfix.repair(verbose=True)"
      ]
    },
    {
      "cell_type": "markdown",
      "metadata": {},
      "source": [
        "Show the repaired result\n\n"
      ]
    },
    {
      "cell_type": "code",
      "execution_count": null,
      "metadata": {
        "collapsed": false
      },
      "outputs": [],
      "source": [
        "repaired = meshfix.mesh\nprint(repaired)"
      ]
    },
    {
      "cell_type": "code",
      "execution_count": null,
      "metadata": {
        "collapsed": false
      },
      "outputs": [],
      "source": [
        "repaired.plot(cpos=cpos)"
      ]
    }
  ],
  "metadata": {
    "kernelspec": {
      "display_name": "Python 3",
      "language": "python",
      "name": "python3"
    },
    "language_info": {
      "codemirror_mode": {
        "name": "ipython",
        "version": 3
      },
      "file_extension": ".py",
      "mimetype": "text/x-python",
      "name": "python",
      "nbconvert_exporter": "python",
      "pygments_lexer": "ipython3",
      "version": "3.11.8"
    }
  },
  "nbformat": 4,
  "nbformat_minor": 0
}