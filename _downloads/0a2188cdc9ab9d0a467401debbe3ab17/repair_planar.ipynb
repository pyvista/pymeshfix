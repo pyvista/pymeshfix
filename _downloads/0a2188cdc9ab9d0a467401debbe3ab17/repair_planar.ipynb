{
  "cells": [
    {
      "cell_type": "markdown",
      "metadata": {},
      "source": [
        "\n# Partial Fill Holes\n\nThis example fills all but the largest holes in a planar mesh.\n"
      ]
    },
    {
      "cell_type": "code",
      "execution_count": null,
      "metadata": {
        "collapsed": false
      },
      "outputs": [],
      "source": [
        "# sphinx_gallery_thumbnail_number = 1\nimport numpy as np\nimport pyvista as pv\n\nfrom pymeshfix import MeshFix\nfrom pymeshfix._meshfix import PyTMesh\nfrom pymeshfix.examples import planar_mesh"
      ]
    },
    {
      "cell_type": "markdown",
      "metadata": {},
      "source": [
        "plot the holes on the original mesh\n\n"
      ]
    },
    {
      "cell_type": "code",
      "execution_count": null,
      "metadata": {
        "collapsed": false
      },
      "outputs": [],
      "source": [
        "orig_mesh = pv.read(planar_mesh)\n# orig_mesh.plot_boundaries()\n\nmeshfix = MeshFix(orig_mesh)\nholes = meshfix.extract_holes()\n\n# Render the mesh and outline the holes\nplotter = pv.Plotter()\nplotter.add_mesh(orig_mesh, color=True)\nplotter.add_mesh(holes, color=\"r\", line_width=5)\nplotter.enable_eye_dome_lighting()  # helps depth perception\n_ = plotter.show()"
      ]
    },
    {
      "cell_type": "markdown",
      "metadata": {},
      "source": [
        "This example uses the lower level C interface to the TMesh object.\n\n"
      ]
    },
    {
      "cell_type": "code",
      "execution_count": null,
      "metadata": {
        "collapsed": false
      },
      "outputs": [],
      "source": [
        "mfix = PyTMesh(False)  # False removes extra verbose output\nmfix.load_file(planar_mesh)\n\n# Fills all the holes having at at most 'nbe' boundary edges. If\n# 'refine' is true, adds inner vertices to reproduce the sampling\n# density of the surroundings. Returns number of holes patched.  If\n# 'nbe' is 0 (default), all the holes are patched.\nmfix.fill_small_boundaries(nbe=100, refine=True)"
      ]
    },
    {
      "cell_type": "markdown",
      "metadata": {},
      "source": [
        "Convert back to a pyvista mesh\n\n"
      ]
    },
    {
      "cell_type": "code",
      "execution_count": null,
      "metadata": {
        "collapsed": false
      },
      "outputs": [],
      "source": [
        "vert, faces = mfix.return_arrays()\ntriangles = np.empty((faces.shape[0], 4), dtype=faces.dtype)\ntriangles[:, -3:] = faces\ntriangles[:, 0] = 3\n\nmesh = pv.PolyData(vert, triangles)"
      ]
    },
    {
      "cell_type": "markdown",
      "metadata": {},
      "source": [
        "Plot the repaired mesh along with the original holes\nNote: It seems there is a limit to the repair algorithm whereby some\nof the holes that include only a single point are not filled. These\nboundary holes are not detected by VTK's hole repair algorithm\neither.\n\n"
      ]
    },
    {
      "cell_type": "code",
      "execution_count": null,
      "metadata": {
        "collapsed": false
      },
      "outputs": [],
      "source": [
        "plotter = pv.Plotter()\nplotter.add_mesh(mesh, color=True)\nplotter.add_mesh(holes, color=\"r\", line_width=5)\nplotter.enable_eye_dome_lighting()  # helps depth perception\n_ = plotter.show()"
      ]
    }
  ],
  "metadata": {
    "kernelspec": {
      "display_name": "Python 3",
      "language": "python",
      "name": "python3"
    },
    "language_info": {
      "codemirror_mode": {
        "name": "ipython",
        "version": 3
      },
      "file_extension": ".py",
      "mimetype": "text/x-python",
      "name": "python",
      "nbconvert_exporter": "python",
      "pygments_lexer": "ipython3",
      "version": "3.11.8"
    }
  },
  "nbformat": 4,
  "nbformat_minor": 0
}